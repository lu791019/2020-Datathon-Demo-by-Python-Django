{
 "cells": [
  {
   "cell_type": "code",
   "execution_count": 1,
   "metadata": {},
   "outputs": [],
   "source": [
    "#import pymssql\n",
    "import pandas as pd\n",
    "import numpy as np\n",
    "import pyodbc\n",
    "import datetime as dt"
   ]
  },
  {
   "cell_type": "code",
   "execution_count": 2,
   "metadata": {},
   "outputs": [],
   "source": [
    "pd.set_option('display.max_columns', None)\n",
    "pd.set_option('display.max_rows', None)"
   ]
  },
  {
   "cell_type": "code",
   "execution_count": 3,
   "metadata": {},
   "outputs": [],
   "source": [
    "import pyodbc\n",
    "server='datathon.database.windows.net'\n",
    "database = 'datathon_mssql' \n",
    "username = 'datathonuser' \n",
    "password = '1qaz@WSX3edc' \n",
    "conn = pyodbc.connect('DRIVER={ODBC Driver 17 for SQL Server};SERVER='+server+';DATABASE='+database+';UID='+username+';PWD='+ password)\n",
    "cursor = conn.cursor()"
   ]
  },
  {
   "cell_type": "code",
   "execution_count": 12,
   "metadata": {},
   "outputs": [],
   "source": [
    "stmt =\"\"\"\n",
    "select top 1000 item_name, count(1) as cnt\n",
    "from datathon_mssql.dbo.invoice_qmonster with(nolock)\n",
    "where 1=1\n",
    "group by item_name\n",
    "order by count(1) desc\n",
    "\"\"\""
   ]
  },
  {
   "cell_type": "code",
   "execution_count": 13,
   "metadata": {},
   "outputs": [
    {
     "data": {
      "text/plain": [
       "(1000, 2)"
      ]
     },
     "execution_count": 13,
     "metadata": {},
     "output_type": "execute_result"
    }
   ],
   "source": [
    "df = pd.read_sql_query(stmt,conn)\n",
    "df.shape"
   ]
  },
  {
   "cell_type": "code",
   "execution_count": 6,
   "metadata": {},
   "outputs": [
    {
     "data": {
      "text/html": [
       "<div>\n",
       "<style scoped>\n",
       "    .dataframe tbody tr th:only-of-type {\n",
       "        vertical-align: middle;\n",
       "    }\n",
       "\n",
       "    .dataframe tbody tr th {\n",
       "        vertical-align: top;\n",
       "    }\n",
       "\n",
       "    .dataframe thead th {\n",
       "        text-align: right;\n",
       "    }\n",
       "</style>\n",
       "<table border=\"1\" class=\"dataframe\">\n",
       "  <thead>\n",
       "    <tr style=\"text-align: right;\">\n",
       "      <th></th>\n",
       "      <th>item_name</th>\n",
       "      <th>cnt</th>\n",
       "    </tr>\n",
       "  </thead>\n",
       "  <tbody>\n",
       "  </tbody>\n",
       "</table>\n",
       "</div>"
      ],
      "text/plain": [
       "Empty DataFrame\n",
       "Columns: [item_name, cnt]\n",
       "Index: []"
      ]
     },
     "execution_count": 6,
     "metadata": {},
     "output_type": "execute_result"
    }
   ],
   "source": [
    "df.iloc[100:199]"
   ]
  },
  {
   "cell_type": "code",
   "execution_count": 7,
   "metadata": {},
   "outputs": [],
   "source": [
    "drink = ['台灣純綠', '美式熱咖啡(大)', '珍珠奶茶', '拿鐵熱咖啡(中)', '美式冰咖啡(大)', '優多綠茶', \n",
    "         '台灣青茶', '拿鐵冰咖啡(大)', '麥香紅茶ＴＰ３００', '特級綠茶', '四季春青茶-大', '大熟成紅茶', \n",
    "         '極品菁茶', '大 四季春茶', '美式熱咖啡(中)', '中熱拿鐵', '古早味紅茶']"
   ]
  },
  {
   "cell_type": "code",
   "execution_count": 9,
   "metadata": {},
   "outputs": [],
   "source": [
    "import re\n",
    "r = re.compile(\"^\\*+\")\n",
    "drink_list = list(filter(r.match, df.item_name))  # Note 1"
   ]
  },
  {
   "cell_type": "code",
   "execution_count": 10,
   "metadata": {},
   "outputs": [],
   "source": [
    "drink_all = drink + drink_list"
   ]
  },
  {
   "cell_type": "code",
   "execution_count": 11,
   "metadata": {},
   "outputs": [
    {
     "data": {
      "text/plain": [
       "17"
      ]
     },
     "execution_count": 11,
     "metadata": {},
     "output_type": "execute_result"
    }
   ],
   "source": [
    "len(drink_all)"
   ]
  },
  {
   "cell_type": "code",
   "execution_count": 4,
   "metadata": {},
   "outputs": [],
   "source": [
    "drink_stmt=\"\"\"\n",
    "select * \n",
    "from datathon_mssql.dbo.invoice_qmonster with(nolock)\n",
    "where 1=1\n",
    "    and item_name in (N'台灣純綠',\n",
    " N'美式熱咖啡(大)',\n",
    " N'珍珠奶茶',\n",
    " N'拿鐵熱咖啡(中)',\n",
    " N'美式冰咖啡(大)',\n",
    " N'優多綠茶',\n",
    " N'台灣青茶',\n",
    " N'拿鐵冰咖啡(大)',\n",
    " N'麥香紅茶ＴＰ３００',\n",
    " N'特級綠茶',\n",
    " N'四季春青茶-大',\n",
    " N'大熟成紅茶',\n",
    " N'極品菁茶',\n",
    " N'大 四季春茶',\n",
    " N'美式熱咖啡(中)',\n",
    " N'中熱拿鐵',\n",
    " N'古早味紅茶',\n",
    " N'*統一麥香奶茶TP300',\n",
    " N'*統一陽光無加糖高纖豆漿450ml盒',\n",
    " N'*PH9.0鹼性離子水PET800',\n",
    " N'*統一麥香紅茶TP300',\n",
    " N'*茶裏王日式綠茶PET600',\n",
    " N'*統一麥香綠茶TP300',\n",
    " N'*生活泡沬綠茶TP300',\n",
    " N'*台鹽海洋鹼性離子水PET850',\n",
    " N'*純喫茶紅茶650ml(盒)',\n",
    " N'*統一UNI-WATER純水PET550',\n",
    " N'*統一麥香奶茶TP375',\n",
    " N'*統一陽光陽光黃金豆豆漿450ml',\n",
    " N'*茶裏王白毫烏龍PET600',\n",
    " N'*黑松FIN健康補給飲料PET580',\n",
    " N'*舒跑運動飲料PET590',\n",
    " N'*統一陽光低糖高纖豆漿450ml(盒)',\n",
    " N'*純喫茶無糖綠茶650ml(盒)',\n",
    " N'*統一麥香紅茶TP375',\n",
    " N'*飲冰室茶集綠奶茶400ml(盒)',\n",
    " N'*瑞穗全脂鮮乳230ml',\n",
    " N'*純喫茶紅茶481ml(盒)',\n",
    " N'*茶裏王台式綠茶PET600',\n",
    " N'*原萃日式綠茶PET580',\n",
    " N'*統一陽光糙米漿450ml(盒)',\n",
    " N'*可口可樂PET600.',\n",
    " N'*原萃綠茶-玉露PET580',\n",
    " N'*瑞穗鮮乳290ml(盒)',\n",
    " N'*伯朗咖啡CAN240',\n",
    " N'*麥香阿薩姆奶茶PET600',\n",
    " N'*御茶園台灣四季春PET550',\n",
    " N'*純喫茶綠茶650ml(盒)',\n",
    " N'*多喝水PET700',\n",
    " N'*養樂多100cc',\n",
    " N'*保力達蠻牛維他命B飲料200ml',\n",
    " N'*iseLect多多綠茶650ml',\n",
    " N'*寶礦力水得PET580',\n",
    " N'*飲冰室茶集紅奶茶400ml(盒)',\n",
    " N'*iseLect拿鐵咖啡400ml',\n",
    " N'*瑞穗鮮乳-全脂鮮乳400ml(盒)',\n",
    " N'*養樂多300 LIGHT活菌發酵乳',\n",
    " N'*每朝健康-雙纖綠茶PET650',\n",
    " N'*每朝健康綠茶PET650',\n",
    " N'*Ice Walker冰塊',\n",
    " N'*韋恩特濃咖啡CAN320',\n",
    " N'*統一木瓜牛奶478ml(盒)',\n",
    " N'*純喫茶綠茶481ml(盒)',\n",
    " N'*純喫茶鮮柚綠茶650ml(盒)',\n",
    " N'*桂格100%喝的燕麥290ml',\n",
    " N'*御茶園特撰冰釀綠茶PET550',\n",
    " N'*泰山純水PET700',\n",
    " N'*麥香錫蘭奶茶PET600',\n",
    " N'*純喫茶檸檬紅茶650ml(盒)',\n",
    " N'*純喫茶無糖綠茶481ml(盒)',\n",
    " N'*貝納頌經典拿鐵咖啡290ml',\n",
    " N'*左岸咖啡館奶茶240ml(杯)',\n",
    " N'*AB原味優酪乳206ml(瓶)',\n",
    " N'*藍山咖啡CAN240',\n",
    " N'*愛之味健康油切分解茶PET590',\n",
    " N'*AB無加糖優酪乳PE206ml',\n",
    " N'*比菲多新纖順暢發酵乳340ml',\n",
    " N'*麥香阿薩姆紅茶PET600',\n",
    " N'*黑松沙士PET600',\n",
    " N'*舒跑鹼性離子水PET850',\n",
    " N'*(E)蜜蜂故事館蜂蜜檸檬水',\n",
    " N'*金牌啤酒330cc罐',\n",
    " N'*(E)蜜蜂故事館蜂蜜水',\n",
    " N'*原萃鐵觀音PET580',\n",
    " N'*咖啡廣場調合式冰咖啡PET600',\n",
    " N'*金牌台灣啤酒500ml罐',\n",
    " N'*紅牛能量飲CAN250ml',\n",
    " N'*咖啡廣場奶香特調咖啡PET600',\n",
    " N'*瑞穗低脂鮮乳290ml(盒)',\n",
    " N'*iseLect巧克力奶茶PET550ml',\n",
    " N'*(E)福樂鮮攪可可600ml',\n",
    " N'*(E)光泉鮮奶豆漿375ml',\n",
    " N'*iselect  H2O純水2.2L',\n",
    " N'*貝納頌經典曼特寧咖啡290ml',\n",
    " N'*可口可樂纖維+PET600',\n",
    " N'*瑞穗低脂鮮乳230ml',\n",
    " N'*瑞穗巧克力牛奶290ml',\n",
    " N'*純萃喝咖啡重乳拿鐵275ml',\n",
    " N'*瑞穗蘋果牛奶400ml',\n",
    " N'*原萃烏龍茶PET580',\n",
    " N'*光泉午后時光重乳奶茶400ml',\n",
    " N'*AB無加糖優酪乳PE517ml',\n",
    " N'*麒麟霸啤酒500cc罐',\n",
    " N'*瑞穗蘋果牛奶290ml',\n",
    " N'*瑞穗鮮乳-低脂鮮乳400ml(盒)',\n",
    " N'*AB原味優酪乳517ml(瓶)')\n",
    "\"\"\""
   ]
  },
  {
   "cell_type": "code",
   "execution_count": 5,
   "metadata": {},
   "outputs": [],
   "source": [
    "df_drink = pd.read_sql_query(drink_stmt,conn)"
   ]
  },
  {
   "cell_type": "code",
   "execution_count": 6,
   "metadata": {},
   "outputs": [
    {
     "data": {
      "text/plain": [
       "(1063772, 13)"
      ]
     },
     "execution_count": 6,
     "metadata": {},
     "output_type": "execute_result"
    }
   ],
   "source": [
    "df_drink.shape"
   ]
  },
  {
   "cell_type": "code",
   "execution_count": 7,
   "metadata": {},
   "outputs": [],
   "source": [
    "drink_stmt=\"\"\"\n",
    "select * \n",
    "from datathon_mssql.dbo.invoice_qmonster2 with(nolock)\n",
    "where 1=1\n",
    "    and item_name in (N'台灣純綠',\n",
    " N'美式熱咖啡(大)',\n",
    " N'珍珠奶茶',\n",
    " N'拿鐵熱咖啡(中)',\n",
    " N'美式冰咖啡(大)',\n",
    " N'優多綠茶',\n",
    " N'台灣青茶',\n",
    " N'拿鐵冰咖啡(大)',\n",
    " N'麥香紅茶ＴＰ３００',\n",
    " N'特級綠茶',\n",
    " N'四季春青茶-大',\n",
    " N'大熟成紅茶',\n",
    " N'極品菁茶',\n",
    " N'大 四季春茶',\n",
    " N'美式熱咖啡(中)',\n",
    " N'中熱拿鐵',\n",
    " N'古早味紅茶',\n",
    " N'*統一麥香奶茶TP300',\n",
    " N'*統一陽光無加糖高纖豆漿450ml盒',\n",
    " N'*PH9.0鹼性離子水PET800',\n",
    " N'*統一麥香紅茶TP300',\n",
    " N'*茶裏王日式綠茶PET600',\n",
    " N'*統一麥香綠茶TP300',\n",
    " N'*生活泡沬綠茶TP300',\n",
    " N'*台鹽海洋鹼性離子水PET850',\n",
    " N'*純喫茶紅茶650ml(盒)',\n",
    " N'*統一UNI-WATER純水PET550',\n",
    " N'*統一麥香奶茶TP375',\n",
    " N'*統一陽光陽光黃金豆豆漿450ml',\n",
    " N'*茶裏王白毫烏龍PET600',\n",
    " N'*黑松FIN健康補給飲料PET580',\n",
    " N'*舒跑運動飲料PET590',\n",
    " N'*統一陽光低糖高纖豆漿450ml(盒)',\n",
    " N'*純喫茶無糖綠茶650ml(盒)',\n",
    " N'*統一麥香紅茶TP375',\n",
    " N'*飲冰室茶集綠奶茶400ml(盒)',\n",
    " N'*瑞穗全脂鮮乳230ml',\n",
    " N'*純喫茶紅茶481ml(盒)',\n",
    " N'*茶裏王台式綠茶PET600',\n",
    " N'*原萃日式綠茶PET580',\n",
    " N'*統一陽光糙米漿450ml(盒)',\n",
    " N'*可口可樂PET600.',\n",
    " N'*原萃綠茶-玉露PET580',\n",
    " N'*瑞穗鮮乳290ml(盒)',\n",
    " N'*伯朗咖啡CAN240',\n",
    " N'*麥香阿薩姆奶茶PET600',\n",
    " N'*御茶園台灣四季春PET550',\n",
    " N'*純喫茶綠茶650ml(盒)',\n",
    " N'*多喝水PET700',\n",
    " N'*養樂多100cc',\n",
    " N'*保力達蠻牛維他命B飲料200ml',\n",
    " N'*iseLect多多綠茶650ml',\n",
    " N'*寶礦力水得PET580',\n",
    " N'*飲冰室茶集紅奶茶400ml(盒)',\n",
    " N'*iseLect拿鐵咖啡400ml',\n",
    " N'*瑞穗鮮乳-全脂鮮乳400ml(盒)',\n",
    " N'*養樂多300 LIGHT活菌發酵乳',\n",
    " N'*每朝健康-雙纖綠茶PET650',\n",
    " N'*每朝健康綠茶PET650',\n",
    " N'*Ice Walker冰塊',\n",
    " N'*韋恩特濃咖啡CAN320',\n",
    " N'*統一木瓜牛奶478ml(盒)',\n",
    " N'*純喫茶綠茶481ml(盒)',\n",
    " N'*純喫茶鮮柚綠茶650ml(盒)',\n",
    " N'*桂格100%喝的燕麥290ml',\n",
    " N'*御茶園特撰冰釀綠茶PET550',\n",
    " N'*泰山純水PET700',\n",
    " N'*麥香錫蘭奶茶PET600',\n",
    " N'*純喫茶檸檬紅茶650ml(盒)',\n",
    " N'*純喫茶無糖綠茶481ml(盒)',\n",
    " N'*貝納頌經典拿鐵咖啡290ml',\n",
    " N'*左岸咖啡館奶茶240ml(杯)',\n",
    " N'*AB原味優酪乳206ml(瓶)',\n",
    " N'*藍山咖啡CAN240',\n",
    " N'*愛之味健康油切分解茶PET590',\n",
    " N'*AB無加糖優酪乳PE206ml',\n",
    " N'*比菲多新纖順暢發酵乳340ml',\n",
    " N'*麥香阿薩姆紅茶PET600',\n",
    " N'*黑松沙士PET600',\n",
    " N'*舒跑鹼性離子水PET850',\n",
    " N'*(E)蜜蜂故事館蜂蜜檸檬水',\n",
    " N'*金牌啤酒330cc罐',\n",
    " N'*(E)蜜蜂故事館蜂蜜水',\n",
    " N'*原萃鐵觀音PET580',\n",
    " N'*咖啡廣場調合式冰咖啡PET600',\n",
    " N'*金牌台灣啤酒500ml罐',\n",
    " N'*紅牛能量飲CAN250ml',\n",
    " N'*咖啡廣場奶香特調咖啡PET600',\n",
    " N'*瑞穗低脂鮮乳290ml(盒)',\n",
    " N'*iseLect巧克力奶茶PET550ml',\n",
    " N'*(E)福樂鮮攪可可600ml',\n",
    " N'*(E)光泉鮮奶豆漿375ml',\n",
    " N'*iselect  H2O純水2.2L',\n",
    " N'*貝納頌經典曼特寧咖啡290ml',\n",
    " N'*可口可樂纖維+PET600',\n",
    " N'*瑞穗低脂鮮乳230ml',\n",
    " N'*瑞穗巧克力牛奶290ml',\n",
    " N'*純萃喝咖啡重乳拿鐵275ml',\n",
    " N'*瑞穗蘋果牛奶400ml',\n",
    " N'*原萃烏龍茶PET580',\n",
    " N'*光泉午后時光重乳奶茶400ml',\n",
    " N'*AB無加糖優酪乳PE517ml',\n",
    " N'*麒麟霸啤酒500cc罐',\n",
    " N'*瑞穗蘋果牛奶290ml',\n",
    " N'*瑞穗鮮乳-低脂鮮乳400ml(盒)',\n",
    " N'*AB原味優酪乳517ml(瓶)')\n",
    "\"\"\""
   ]
  },
  {
   "cell_type": "code",
   "execution_count": 8,
   "metadata": {},
   "outputs": [],
   "source": [
    "df_drink_2 = pd.read_sql_query(drink_stmt,conn)"
   ]
  },
  {
   "cell_type": "code",
   "execution_count": 9,
   "metadata": {},
   "outputs": [],
   "source": [
    "df_drink_all = pd.concat([df_drink, df_drink_2])"
   ]
  },
  {
   "cell_type": "code",
   "execution_count": 10,
   "metadata": {},
   "outputs": [
    {
     "data": {
      "text/plain": [
       "(2127544, 13)"
      ]
     },
     "execution_count": 10,
     "metadata": {},
     "output_type": "execute_result"
    }
   ],
   "source": [
    "df_drink_all.shape"
   ]
  },
  {
   "cell_type": "code",
   "execution_count": 11,
   "metadata": {},
   "outputs": [],
   "source": [
    "sd = dt.datetime(2020,8,1)\n",
    "df_drink_all['hist']=sd - df_drink_all['invoice_generatetime']\n",
    "df_drink_all['hist'].astype('timedelta64[D]')\n",
    "df_drink_all['hist']=round(df_drink_all['hist'] / np.timedelta64(1, 'D'),0)"
   ]
  },
  {
   "cell_type": "code",
   "execution_count": 12,
   "metadata": {},
   "outputs": [
    {
     "data": {
      "text/plain": [
       "Timestamp('2020-08-20 09:59:49')"
      ]
     },
     "execution_count": 12,
     "metadata": {},
     "output_type": "execute_result"
    }
   ],
   "source": [
    "df_drink_all.invoice_generatetime.max()"
   ]
  },
  {
   "cell_type": "markdown",
   "metadata": {},
   "source": [
    "### Weather Data "
   ]
  },
  {
   "cell_type": "code",
   "execution_count": 15,
   "metadata": {},
   "outputs": [],
   "source": [
    "weather_stmt = \"\"\"\n",
    "select * \n",
    "from datathon_mssql.dbo.weather13 with(nolock)\n",
    "where 1=1\n",
    "\n",
    "union all\n",
    "\n",
    "select * \n",
    "from datathon_mssql.dbo.weather46 with(nolock)\n",
    "where 1=1\n",
    "\"\"\"\n"
   ]
  },
  {
   "cell_type": "code",
   "execution_count": 72,
   "metadata": {},
   "outputs": [],
   "source": [
    "df_weather = pd.read_sql_query(weather_stmt,conn)"
   ]
  },
  {
   "cell_type": "code",
   "execution_count": 41,
   "metadata": {},
   "outputs": [],
   "source": [
    "df_weather_copy = df_weather.copy()"
   ]
  },
  {
   "cell_type": "code",
   "execution_count": 56,
   "metadata": {},
   "outputs": [],
   "source": [
    "df_weather = df_weather_copy.copy()"
   ]
  },
  {
   "cell_type": "code",
   "execution_count": 36,
   "metadata": {
    "collapsed": true,
    "jupyter": {
     "outputs_hidden": true
    }
   },
   "outputs": [
    {
     "data": {
      "text/html": [
       "<div>\n",
       "<style scoped>\n",
       "    .dataframe tbody tr th:only-of-type {\n",
       "        vertical-align: middle;\n",
       "    }\n",
       "\n",
       "    .dataframe tbody tr th {\n",
       "        vertical-align: top;\n",
       "    }\n",
       "\n",
       "    .dataframe thead th {\n",
       "        text-align: right;\n",
       "    }\n",
       "</style>\n",
       "<table border=\"1\" class=\"dataframe\">\n",
       "  <thead>\n",
       "    <tr style=\"text-align: right;\">\n",
       "      <th></th>\n",
       "      <th>\"測站狀況\"</th>\n",
       "      <th>\"測站名稱\"</th>\n",
       "      <th>\"測站代碼\"</th>\n",
       "      <th>\"縣市\"</th>\n",
       "      <th>\"鄉鎮市區\"</th>\n",
       "      <th>\"海拔高度\"</th>\n",
       "      <th>\"測站類型\"</th>\n",
       "      <th>\"經度\"</th>\n",
       "      <th>\"緯度\"</th>\n",
       "      <th>\"時間\"</th>\n",
       "      <th>\"年份\"</th>\n",
       "      <th>\"月份\"</th>\n",
       "      <th>\"日期\"</th>\n",
       "      <th>\"小時\"</th>\n",
       "      <th>\"氣壓\"</th>\n",
       "      <th>\"溫度\"</th>\n",
       "      <th>\"相對濕度\"</th>\n",
       "      <th>\"平均風風速\"</th>\n",
       "      <th>\"平均風風向\"</th>\n",
       "      <th>\"降雨量\"</th>\n",
       "      <th>\"日照時數\"</th>\n",
       "      <th>city</th>\n",
       "    </tr>\n",
       "  </thead>\n",
       "  <tbody>\n",
       "    <tr>\n",
       "      <th>0</th>\n",
       "      <td>\"現存測站\"</td>\n",
       "      <td>\"泰平\"</td>\n",
       "      <td>\"C0A550\"</td>\n",
       "      <td>\"新北市\"</td>\n",
       "      <td>\"雙溪區\"</td>\n",
       "      <td>422</td>\n",
       "      <td>\"自動氣象\"</td>\n",
       "      <td>121.8237</td>\n",
       "      <td>24.9712</td>\n",
       "      <td>2020-01-08 02:00:00</td>\n",
       "      <td>2020</td>\n",
       "      <td>1</td>\n",
       "      <td>8</td>\n",
       "      <td>2</td>\n",
       "      <td>\"971.5\"</td>\n",
       "      <td>\"13.6\"</td>\n",
       "      <td>\"100\"</td>\n",
       "      <td>\"0\"</td>\n",
       "      <td>\"0\"</td>\n",
       "      <td>0</td>\n",
       "      <td>-9999</td>\n",
       "      <td>新北市</td>\n",
       "    </tr>\n",
       "    <tr>\n",
       "      <th>1</th>\n",
       "      <td>\"現存測站\"</td>\n",
       "      <td>\"泰平\"</td>\n",
       "      <td>\"C0A550\"</td>\n",
       "      <td>\"新北市\"</td>\n",
       "      <td>\"雙溪區\"</td>\n",
       "      <td>422</td>\n",
       "      <td>\"自動氣象\"</td>\n",
       "      <td>121.8237</td>\n",
       "      <td>24.9712</td>\n",
       "      <td>2020-01-08 03:00:00</td>\n",
       "      <td>2020</td>\n",
       "      <td>1</td>\n",
       "      <td>8</td>\n",
       "      <td>3</td>\n",
       "      <td>\"972\"</td>\n",
       "      <td>\"13\"</td>\n",
       "      <td>\"100\"</td>\n",
       "      <td>\"0\"</td>\n",
       "      <td>\"0\"</td>\n",
       "      <td>0</td>\n",
       "      <td>-9999</td>\n",
       "      <td>新北市</td>\n",
       "    </tr>\n",
       "    <tr>\n",
       "      <th>2</th>\n",
       "      <td>\"現存測站\"</td>\n",
       "      <td>\"泰平\"</td>\n",
       "      <td>\"C0A550\"</td>\n",
       "      <td>\"新北市\"</td>\n",
       "      <td>\"雙溪區\"</td>\n",
       "      <td>422</td>\n",
       "      <td>\"自動氣象\"</td>\n",
       "      <td>121.8237</td>\n",
       "      <td>24.9712</td>\n",
       "      <td>2020-01-08 04:00:00</td>\n",
       "      <td>2020</td>\n",
       "      <td>1</td>\n",
       "      <td>8</td>\n",
       "      <td>4</td>\n",
       "      <td>\"-9997\"</td>\n",
       "      <td>\"-9997\"</td>\n",
       "      <td>\"-9997\"</td>\n",
       "      <td>\"-9997\"</td>\n",
       "      <td>\"-9997\"</td>\n",
       "      <td>0</td>\n",
       "      <td>-9999</td>\n",
       "      <td>新北市</td>\n",
       "    </tr>\n",
       "    <tr>\n",
       "      <th>3</th>\n",
       "      <td>\"現存測站\"</td>\n",
       "      <td>\"泰平\"</td>\n",
       "      <td>\"C0A550\"</td>\n",
       "      <td>\"新北市\"</td>\n",
       "      <td>\"雙溪區\"</td>\n",
       "      <td>422</td>\n",
       "      <td>\"自動氣象\"</td>\n",
       "      <td>121.8237</td>\n",
       "      <td>24.9712</td>\n",
       "      <td>2020-01-08 05:00:00</td>\n",
       "      <td>2020</td>\n",
       "      <td>1</td>\n",
       "      <td>8</td>\n",
       "      <td>5</td>\n",
       "      <td>\"973.2\"</td>\n",
       "      <td>\"13.3\"</td>\n",
       "      <td>\"100\"</td>\n",
       "      <td>\"0\"</td>\n",
       "      <td>\"0\"</td>\n",
       "      <td>0</td>\n",
       "      <td>-9999</td>\n",
       "      <td>新北市</td>\n",
       "    </tr>\n",
       "    <tr>\n",
       "      <th>4</th>\n",
       "      <td>\"現存測站\"</td>\n",
       "      <td>\"泰平\"</td>\n",
       "      <td>\"C0A550\"</td>\n",
       "      <td>\"新北市\"</td>\n",
       "      <td>\"雙溪區\"</td>\n",
       "      <td>422</td>\n",
       "      <td>\"自動氣象\"</td>\n",
       "      <td>121.8237</td>\n",
       "      <td>24.9712</td>\n",
       "      <td>2020-01-08 06:00:00</td>\n",
       "      <td>2020</td>\n",
       "      <td>1</td>\n",
       "      <td>8</td>\n",
       "      <td>6</td>\n",
       "      <td>\"974.1\"</td>\n",
       "      <td>\"14.7\"</td>\n",
       "      <td>\"100\"</td>\n",
       "      <td>\"0.3\"</td>\n",
       "      <td>\"330\"</td>\n",
       "      <td>0</td>\n",
       "      <td>-9999</td>\n",
       "      <td>新北市</td>\n",
       "    </tr>\n",
       "  </tbody>\n",
       "</table>\n",
       "</div>"
      ],
      "text/plain": [
       "   \"測站狀況\" \"測站名稱\"    \"測站代碼\"   \"縣市\" \"鄉鎮市區\" \"海拔高度\"  \"測站類型\"      \"經度\"     \"緯度\"  \\\n",
       "0  \"現存測站\"   \"泰平\"  \"C0A550\"  \"新北市\"  \"雙溪區\"    422  \"自動氣象\"  121.8237  24.9712   \n",
       "1  \"現存測站\"   \"泰平\"  \"C0A550\"  \"新北市\"  \"雙溪區\"    422  \"自動氣象\"  121.8237  24.9712   \n",
       "2  \"現存測站\"   \"泰平\"  \"C0A550\"  \"新北市\"  \"雙溪區\"    422  \"自動氣象\"  121.8237  24.9712   \n",
       "3  \"現存測站\"   \"泰平\"  \"C0A550\"  \"新北市\"  \"雙溪區\"    422  \"自動氣象\"  121.8237  24.9712   \n",
       "4  \"現存測站\"   \"泰平\"  \"C0A550\"  \"新北市\"  \"雙溪區\"    422  \"自動氣象\"  121.8237  24.9712   \n",
       "\n",
       "                  \"時間\"  \"年份\" \"月份\" \"日期\" \"小時\"     \"氣壓\"     \"溫度\"   \"相對濕度\"  \\\n",
       "0  2020-01-08 02:00:00  2020    1    8    2  \"971.5\"   \"13.6\"    \"100\"   \n",
       "1  2020-01-08 03:00:00  2020    1    8    3    \"972\"     \"13\"    \"100\"   \n",
       "2  2020-01-08 04:00:00  2020    1    8    4  \"-9997\"  \"-9997\"  \"-9997\"   \n",
       "3  2020-01-08 05:00:00  2020    1    8    5  \"973.2\"   \"13.3\"    \"100\"   \n",
       "4  2020-01-08 06:00:00  2020    1    8    6  \"974.1\"   \"14.7\"    \"100\"   \n",
       "\n",
       "   \"平均風風速\"  \"平均風風向\" \"降雨量\" \"日照時數\" city  \n",
       "0      \"0\"      \"0\"     0  -9999  新北市  \n",
       "1      \"0\"      \"0\"     0  -9999  新北市  \n",
       "2  \"-9997\"  \"-9997\"     0  -9999  新北市  \n",
       "3      \"0\"      \"0\"     0  -9999  新北市  \n",
       "4    \"0.3\"    \"330\"     0  -9999  新北市  "
      ]
     },
     "execution_count": 36,
     "metadata": {},
     "output_type": "execute_result"
    }
   ],
   "source": [
    "df_weather['city'] = df_weather['\"縣市\"'].str.strip('\"')\n",
    "df_weather.head()"
   ]
  },
  {
   "cell_type": "code",
   "execution_count": 57,
   "metadata": {},
   "outputs": [],
   "source": [
    "#df_weather['\"降雨量\"'].dtype\n",
    "df_weather = df_weather[~df_weather['\"降雨量\"'].str.contains('-')]\n",
    "df_weather['\"降雨量\"'] = pd.to_numeric(df_weather['\"降雨量\"'],errors='coerce')"
   ]
  },
  {
   "cell_type": "code",
   "execution_count": 53,
   "metadata": {},
   "outputs": [],
   "source": [
    "df_weather_group = df_weather.groupby(['city', '\"時間\"'])['\"降雨量\"'].mean().reset_index()"
   ]
  },
  {
   "cell_type": "code",
   "execution_count": 79,
   "metadata": {},
   "outputs": [],
   "source": [
    "df_weather_group['weather'] = np.where(df_weather_group['\"降雨量\"'] > 5, 1, 0)\n",
    "df_weather_group['hr'] = pd.to_datetime(df_weather_group['\"時間\"']).dt.hour\n",
    "df_weather_group['date'] = pd.to_datetime(df_weather_group['\"時間\"']).dt.date\n"
   ]
  },
  {
   "cell_type": "code",
   "execution_count": 88,
   "metadata": {},
   "outputs": [],
   "source": [
    "df_drink_all['address_new'] =df_drink_all.address.str.replace('\\d+', '')\n",
    "df_drink_all['city'] = df_drink_all.address_new.str[0:3]\n",
    "df_drink_all['city'] = np.where(df_drink_all['city'] == '台北市', '臺北市', df_drink_all['city'])\n",
    "df_drink_all['city'] = np.where(df_drink_all['city'] == '台中市', '臺中市', df_drink_all['city'])\n",
    "df_drink_all['city'] = np.where(df_drink_all['city'] == '台南市', '臺南市', df_drink_all['city'])\n",
    "df_drink_all['city'] = np.where(df_drink_all['city'] == '台東市', '臺東市', df_drink_all['city'])\n",
    "\n",
    "df_drink_all['hr'] = pd.to_datetime(df_drink_all['invoice_generatetime']).dt.hour\n",
    "df_drink_all['date'] = pd.to_datetime(df_drink_all['invoice_generatetime']).dt.date\n"
   ]
  },
  {
   "cell_type": "code",
   "execution_count": 89,
   "metadata": {},
   "outputs": [
    {
     "data": {
      "text/plain": [
       "0.0    1271514\n",
       "1.0      14886\n",
       "Name: weather, dtype: int64"
      ]
     },
     "execution_count": 89,
     "metadata": {},
     "output_type": "execute_result"
    }
   ],
   "source": [
    "df_merge = pd.merge(df_drink_all, df_weather_group, on=['city','date','hr'], how='left')\n",
    "df_merge.weather.value_counts()"
   ]
  },
  {
   "cell_type": "code",
   "execution_count": 99,
   "metadata": {},
   "outputs": [
    {
     "data": {
      "text/plain": [
       "(1831638, 21)"
      ]
     },
     "execution_count": 99,
     "metadata": {},
     "output_type": "execute_result"
    }
   ],
   "source": [
    "df_merge.shape"
   ]
  },
  {
   "cell_type": "code",
   "execution_count": 90,
   "metadata": {},
   "outputs": [],
   "source": [
    "df_rain = df_merge[df_merge.weather == 1]\n",
    "df_no_rain = df_merge[df_merge.weather == 0]"
   ]
  },
  {
   "cell_type": "markdown",
   "metadata": {},
   "source": [
    "#Rain"
   ]
  },
  {
   "cell_type": "code",
   "execution_count": 103,
   "metadata": {},
   "outputs": [],
   "source": [
    "# all data\n",
    "df_rain = df_rain[df_rain.invoice_generatetime <'2020-07-01']\n",
    "rfmTable = df_rain.groupby('member_serial').agg({'hist': lambda x:x.min(), # Recency\n",
    "                                        'member_serial': lambda x: len(x),               # Frequency\n",
    "                                        'item_total': lambda x: x.sum()})          # Monetary Value\n",
    "\n",
    "rfmTable.rename(columns={'hist': 'recency', \n",
    "                         'member_serial': 'frequency', \n",
    "                         'item_total': 'monetary_value'}, inplace=True)\n"
   ]
  },
  {
   "cell_type": "code",
   "execution_count": 119,
   "metadata": {},
   "outputs": [],
   "source": [
    "df_3days = df_rain[df_rain.invoice_generatetime>='2020-06-28']\n",
    "df_3days = df_3days[df_3days['hist']>0]\n",
    "\n",
    "rfmTable_3days = df_3days.groupby('member_serial').agg({'hist': lambda x:x.min(), # Recency\n",
    "                                        'member_serial': lambda x: len(x),               # Frequency\n",
    "                                        'item_total': lambda x: x.sum()})          # Monetary Value\n",
    "\n",
    "rfmTable_3days.rename(columns={'hist': 'recency', \n",
    "                         'member_serial': 'frequency', \n",
    "                         'item_total': 'monetary_value'}, inplace=True)\n",
    "\n",
    "rfmTable_3days = rfmTable_3days.reset_index()\n",
    "\n",
    "# 7 days\n",
    "df_7days = df_rain[df_rain.invoice_generatetime>='2020-06-24']\n",
    "df_7days = df_7days[df_7days['hist']>0]\n",
    "\n",
    "rfmTable_7days = df_7days.groupby('member_serial').agg({'hist': lambda x:x.min(), # Recency\n",
    "                                        'member_serial': lambda x: len(x),               # Frequency\n",
    "                                        'item_total': lambda x: x.sum()})          # Monetary Value\n",
    "\n",
    "rfmTable_7days.rename(columns={'hist': 'recency', \n",
    "                         'member_serial': 'frequency', \n",
    "                         'item_total': 'monetary_value'}, inplace=True)\n",
    "rfmTable_7days = rfmTable_7days.reset_index()\n",
    "\n",
    "# 14 days\n",
    "df_14days = df_rain[df_rain.invoice_generatetime>='2020-06-17']\n",
    "df_14days = df_14days[df_14days['hist']>0]\n",
    "\n",
    "rfmTable_14days = df_14days.groupby('member_serial').agg({'hist': lambda x:x.min(), # Recency\n",
    "                                        'member_serial': lambda x: len(x),               # Frequency\n",
    "                                        'item_total': lambda x: x.sum()})          # Monetary Value\n",
    "\n",
    "rfmTable_14days.rename(columns={'hist': 'recency', \n",
    "                         'member_serial': 'frequency', \n",
    "                         'item_total': 'monetary_value'}, inplace=True)\n",
    "\n",
    "rfmTable_14days = rfmTable_14days.reset_index()\n",
    "\n",
    "# 30 days\n",
    "df_30days = df_rain[df_rain.invoice_generatetime>='2020-06-01']\n",
    "df_30days = df_30days[df_30days['hist']>0]\n",
    "\n",
    "rfmTable_30days = df_30days.groupby('member_serial').agg({'hist': lambda x:x.min(), # Recency\n",
    "                                        'member_serial': lambda x: len(x),               # Frequency\n",
    "                                        'item_total': lambda x: x.sum()})          # Monetary Value\n",
    "\n",
    "rfmTable_30days.rename(columns={'hist': 'recency', \n",
    "                         'member_serial': 'frequency', \n",
    "                         'item_total': 'monetary_value'}, inplace=True)\n",
    "rfmTable_30days = rfmTable_30days.reset_index()"
   ]
  },
  {
   "cell_type": "code",
   "execution_count": 120,
   "metadata": {},
   "outputs": [
    {
     "data": {
      "text/html": [
       "<div>\n",
       "<style scoped>\n",
       "    .dataframe tbody tr th:only-of-type {\n",
       "        vertical-align: middle;\n",
       "    }\n",
       "\n",
       "    .dataframe tbody tr th {\n",
       "        vertical-align: top;\n",
       "    }\n",
       "\n",
       "    .dataframe thead th {\n",
       "        text-align: right;\n",
       "    }\n",
       "</style>\n",
       "<table border=\"1\" class=\"dataframe\">\n",
       "  <thead>\n",
       "    <tr style=\"text-align: right;\">\n",
       "      <th></th>\n",
       "      <th>member_serial</th>\n",
       "      <th>recency</th>\n",
       "      <th>frequency</th>\n",
       "      <th>monetary_value</th>\n",
       "    </tr>\n",
       "  </thead>\n",
       "  <tbody>\n",
       "    <tr>\n",
       "      <th>0</th>\n",
       "      <td>01d795666a0e4f43a208fc3d47edf2d94ad417c9</td>\n",
       "      <td>60.0</td>\n",
       "      <td>2</td>\n",
       "      <td>56.0</td>\n",
       "    </tr>\n",
       "    <tr>\n",
       "      <th>1</th>\n",
       "      <td>02540e537e8e2b6830f926a487a1a23c3fb13ca7</td>\n",
       "      <td>47.0</td>\n",
       "      <td>2</td>\n",
       "      <td>110.0</td>\n",
       "    </tr>\n",
       "    <tr>\n",
       "      <th>2</th>\n",
       "      <td>02e25547605b45dca16dff0ab7e04b58b81e2292</td>\n",
       "      <td>47.0</td>\n",
       "      <td>2</td>\n",
       "      <td>40.0</td>\n",
       "    </tr>\n",
       "    <tr>\n",
       "      <th>3</th>\n",
       "      <td>02ec28d40bef7ea8070c2dcedbd87cb8b255b29a</td>\n",
       "      <td>54.0</td>\n",
       "      <td>2</td>\n",
       "      <td>90.0</td>\n",
       "    </tr>\n",
       "    <tr>\n",
       "      <th>4</th>\n",
       "      <td>033c6315ca77444b4c4850d6d8d1ff044639e2a6</td>\n",
       "      <td>47.0</td>\n",
       "      <td>6</td>\n",
       "      <td>150.0</td>\n",
       "    </tr>\n",
       "  </tbody>\n",
       "</table>\n",
       "</div>"
      ],
      "text/plain": [
       "                              member_serial  recency  frequency  \\\n",
       "0  01d795666a0e4f43a208fc3d47edf2d94ad417c9     60.0          2   \n",
       "1  02540e537e8e2b6830f926a487a1a23c3fb13ca7     47.0          2   \n",
       "2  02e25547605b45dca16dff0ab7e04b58b81e2292     47.0          2   \n",
       "3  02ec28d40bef7ea8070c2dcedbd87cb8b255b29a     54.0          2   \n",
       "4  033c6315ca77444b4c4850d6d8d1ff044639e2a6     47.0          6   \n",
       "\n",
       "   monetary_value  \n",
       "0            56.0  \n",
       "1           110.0  \n",
       "2            40.0  \n",
       "3            90.0  \n",
       "4           150.0  "
      ]
     },
     "execution_count": 120,
     "metadata": {},
     "output_type": "execute_result"
    }
   ],
   "source": [
    "rfmTable_30days.head()"
   ]
  },
  {
   "cell_type": "code",
   "execution_count": 122,
   "metadata": {},
   "outputs": [
    {
     "data": {
      "text/plain": [
       "(2838, 12)"
      ]
     },
     "execution_count": 122,
     "metadata": {},
     "output_type": "execute_result"
    }
   ],
   "source": [
    "rfm_1 = pd.merge(rfmTable, rfmTable_3days[['member_serial','frequency', 'monetary_value']], on='member_serial', how='left')\n",
    "\n",
    "rfm_2 = pd.merge(rfm_1, rfmTable_7days[['member_serial','frequency', 'monetary_value']], on='member_serial', how='left')\n",
    "rfm_3 = pd.merge(rfm_2, rfmTable_14days[['member_serial','frequency', 'monetary_value']], on='member_serial', how='left')\n",
    "rfm = pd.merge(rfm_3, rfmTable_30days[['member_serial','frequency', 'monetary_value']], on='member_serial', how='left')\n",
    "\n",
    "rfm.shape"
   ]
  },
  {
   "cell_type": "code",
   "execution_count": 127,
   "metadata": {},
   "outputs": [],
   "source": [
    "rfm.columns = ['member_serial',\n",
    " 'recency',\n",
    " 'frequency_lt',\n",
    " 'monetary_value_lt',\n",
    " 'frequency_3days',\n",
    " 'monetary_value_3days',\n",
    " 'frequency_7days',\n",
    " 'monetary_value_7days',\n",
    " 'frequency_14days',\n",
    " 'monetary_value_14days',\n",
    " 'frequency_30days',\n",
    " 'monetary_value_30days']\n"
   ]
  },
  {
   "cell_type": "code",
   "execution_count": 130,
   "metadata": {},
   "outputs": [
    {
     "data": {
      "text/html": [
       "<div>\n",
       "<style scoped>\n",
       "    .dataframe tbody tr th:only-of-type {\n",
       "        vertical-align: middle;\n",
       "    }\n",
       "\n",
       "    .dataframe tbody tr th {\n",
       "        vertical-align: top;\n",
       "    }\n",
       "\n",
       "    .dataframe thead th {\n",
       "        text-align: right;\n",
       "    }\n",
       "</style>\n",
       "<table border=\"1\" class=\"dataframe\">\n",
       "  <thead>\n",
       "    <tr style=\"text-align: right;\">\n",
       "      <th></th>\n",
       "      <th>member_serial</th>\n",
       "      <th>recency</th>\n",
       "      <th>frequency_lt</th>\n",
       "      <th>monetary_value_lt</th>\n",
       "      <th>frequency_3days</th>\n",
       "      <th>monetary_value_3days</th>\n",
       "      <th>frequency_7days</th>\n",
       "      <th>monetary_value_7days</th>\n",
       "      <th>frequency_14days</th>\n",
       "      <th>monetary_value_14days</th>\n",
       "      <th>frequency_30days</th>\n",
       "      <th>monetary_value_30days</th>\n",
       "    </tr>\n",
       "  </thead>\n",
       "  <tbody>\n",
       "    <tr>\n",
       "      <th>0</th>\n",
       "      <td>0002a4db595bbe07e63b89b6c039bd88013b6ddd</td>\n",
       "      <td>76.0</td>\n",
       "      <td>2</td>\n",
       "      <td>40.0</td>\n",
       "      <td>0.0</td>\n",
       "      <td>0.0</td>\n",
       "      <td>0.0</td>\n",
       "      <td>0.0</td>\n",
       "      <td>0.0</td>\n",
       "      <td>0.0</td>\n",
       "      <td>0.0</td>\n",
       "      <td>0.0</td>\n",
       "    </tr>\n",
       "    <tr>\n",
       "      <th>1</th>\n",
       "      <td>0014b2b7729e0e2c133a2ad243ba3429017001d2</td>\n",
       "      <td>65.0</td>\n",
       "      <td>2</td>\n",
       "      <td>40.0</td>\n",
       "      <td>0.0</td>\n",
       "      <td>0.0</td>\n",
       "      <td>0.0</td>\n",
       "      <td>0.0</td>\n",
       "      <td>0.0</td>\n",
       "      <td>0.0</td>\n",
       "      <td>0.0</td>\n",
       "      <td>0.0</td>\n",
       "    </tr>\n",
       "    <tr>\n",
       "      <th>2</th>\n",
       "      <td>003ed961444ff4cd6108802fd3032e7f9d112bc9</td>\n",
       "      <td>144.0</td>\n",
       "      <td>2</td>\n",
       "      <td>20.0</td>\n",
       "      <td>0.0</td>\n",
       "      <td>0.0</td>\n",
       "      <td>0.0</td>\n",
       "      <td>0.0</td>\n",
       "      <td>0.0</td>\n",
       "      <td>0.0</td>\n",
       "      <td>0.0</td>\n",
       "      <td>0.0</td>\n",
       "    </tr>\n",
       "    <tr>\n",
       "      <th>3</th>\n",
       "      <td>003f066281191cef4d54cb2cfa82966c777e31c6</td>\n",
       "      <td>126.0</td>\n",
       "      <td>4</td>\n",
       "      <td>166.0</td>\n",
       "      <td>0.0</td>\n",
       "      <td>0.0</td>\n",
       "      <td>0.0</td>\n",
       "      <td>0.0</td>\n",
       "      <td>0.0</td>\n",
       "      <td>0.0</td>\n",
       "      <td>0.0</td>\n",
       "      <td>0.0</td>\n",
       "    </tr>\n",
       "    <tr>\n",
       "      <th>4</th>\n",
       "      <td>006aea55428c94cdb4f2bbad6e97ae35ae00e8d5</td>\n",
       "      <td>70.0</td>\n",
       "      <td>8</td>\n",
       "      <td>332.0</td>\n",
       "      <td>0.0</td>\n",
       "      <td>0.0</td>\n",
       "      <td>0.0</td>\n",
       "      <td>0.0</td>\n",
       "      <td>0.0</td>\n",
       "      <td>0.0</td>\n",
       "      <td>0.0</td>\n",
       "      <td>0.0</td>\n",
       "    </tr>\n",
       "  </tbody>\n",
       "</table>\n",
       "</div>"
      ],
      "text/plain": [
       "                              member_serial  recency  frequency_lt  \\\n",
       "0  0002a4db595bbe07e63b89b6c039bd88013b6ddd     76.0             2   \n",
       "1  0014b2b7729e0e2c133a2ad243ba3429017001d2     65.0             2   \n",
       "2  003ed961444ff4cd6108802fd3032e7f9d112bc9    144.0             2   \n",
       "3  003f066281191cef4d54cb2cfa82966c777e31c6    126.0             4   \n",
       "4  006aea55428c94cdb4f2bbad6e97ae35ae00e8d5     70.0             8   \n",
       "\n",
       "   monetary_value_lt  frequency_3days  monetary_value_3days  frequency_7days  \\\n",
       "0               40.0              0.0                   0.0              0.0   \n",
       "1               40.0              0.0                   0.0              0.0   \n",
       "2               20.0              0.0                   0.0              0.0   \n",
       "3              166.0              0.0                   0.0              0.0   \n",
       "4              332.0              0.0                   0.0              0.0   \n",
       "\n",
       "   monetary_value_7days  frequency_14days  monetary_value_14days  \\\n",
       "0                   0.0               0.0                    0.0   \n",
       "1                   0.0               0.0                    0.0   \n",
       "2                   0.0               0.0                    0.0   \n",
       "3                   0.0               0.0                    0.0   \n",
       "4                   0.0               0.0                    0.0   \n",
       "\n",
       "   frequency_30days  monetary_value_30days  \n",
       "0               0.0                    0.0  \n",
       "1               0.0                    0.0  \n",
       "2               0.0                    0.0  \n",
       "3               0.0                    0.0  \n",
       "4               0.0                    0.0  "
      ]
     },
     "execution_count": 130,
     "metadata": {},
     "output_type": "execute_result"
    }
   ],
   "source": [
    "rfm_cp = rfm.copy()\n",
    "rfm_cp = rfm_cp.fillna(0)\n",
    "rfm_cp.head()"
   ]
  },
  {
   "cell_type": "markdown",
   "metadata": {},
   "source": [
    "# no rain"
   ]
  },
  {
   "cell_type": "code",
   "execution_count": 100,
   "metadata": {},
   "outputs": [],
   "source": [
    "# all data\n",
    "df_no_rain = df_no_rain[df_no_rain.invoice_generatetime <'2020-07-01']\n",
    "rfmTable_no = df_no_rain.groupby('member_serial').agg({'hist': lambda x:x.min(), # Recency\n",
    "                                        'member_serial': lambda x: len(x),               # Frequency\n",
    "                                        'item_total': lambda x: x.sum()})          # Monetary Value\n",
    "\n",
    "rfmTable_no.rename(columns={'hist': 'recency', \n",
    "                         'member_serial': 'frequency', \n",
    "                         'item_total': 'monetary_value'}, inplace=True)"
   ]
  },
  {
   "cell_type": "code",
   "execution_count": 131,
   "metadata": {},
   "outputs": [],
   "source": [
    "df_3days = df_no_rain[df_no_rain.invoice_generatetime>='2020-06-28']\n",
    "df_3days = df_3days[df_3days['hist']>0]\n",
    "\n",
    "rfmTable_3days_no = df_3days.groupby('member_serial').agg({'hist': lambda x:x.min(), # Recency\n",
    "                                        'member_serial': lambda x: len(x),               # Frequency\n",
    "                                        'item_total': lambda x: x.sum()})          # Monetary Value\n",
    "\n",
    "rfmTable_3days_no.rename(columns={'hist': 'recency', \n",
    "                         'member_serial': 'frequency', \n",
    "                         'item_total': 'monetary_value'}, inplace=True)\n",
    "\n",
    "rfmTable_3days_no = rfmTable_3days_no.reset_index()\n",
    "\n",
    "\n",
    "# 7 days\n",
    "df_7days = df_no_rain[df_no_rain.invoice_generatetime>='2020-06-24']\n",
    "df_7days = df_7days[df_7days['hist']>0]\n",
    "\n",
    "rfmTable_7days_no = df_7days.groupby('member_serial').agg({'hist': lambda x:x.min(), # Recency\n",
    "                                        'member_serial': lambda x: len(x),               # Frequency\n",
    "                                        'item_total': lambda x: x.sum()})          # Monetary Value\n",
    "\n",
    "rfmTable_7days_no.rename(columns={'hist': 'recency', \n",
    "                         'member_serial': 'frequency', \n",
    "                         'item_total': 'monetary_value'}, inplace=True)\n",
    "\n",
    "rfmTable_7days_no = rfmTable_7days_no.reset_index()\n",
    "\n",
    "# 14 days\n",
    "df_14days = df_no_rain[df_no_rain.invoice_generatetime>='2020-06-17']\n",
    "df_14days = df_14days[df_14days['hist']>0]\n",
    "\n",
    "rfmTable_14days_no = df_14days.groupby('member_serial').agg({'hist': lambda x:x.min(), # Recency\n",
    "                                        'member_serial': lambda x: len(x),               # Frequency\n",
    "                                        'item_total': lambda x: x.sum()})          # Monetary Value\n",
    "\n",
    "rfmTable_14days_no.rename(columns={'hist': 'recency', \n",
    "                         'member_serial': 'frequency', \n",
    "                         'item_total': 'monetary_value'}, inplace=True)\n",
    "\n",
    "rfmTable_14days_no = rfmTable_14days_no.reset_index()\n",
    "\n",
    "# 30 days\n",
    "df_30days = df_no_rain[df_no_rain.invoice_generatetime>='2020-06-01']\n",
    "df_30days = df_30days[df_30days['hist']>0]\n",
    "\n",
    "rfmTable_30days_no = df_30days.groupby('member_serial').agg({'hist': lambda x:x.min(), # Recency\n",
    "                                        'member_serial': lambda x: len(x),               # Frequency\n",
    "                                        'item_total': lambda x: x.sum()})          # Monetary Value\n",
    "\n",
    "rfmTable_30days_no.rename(columns={'hist': 'recency', \n",
    "                         'member_serial': 'frequency', \n",
    "                         'item_total': 'monetary_value'}, inplace=True)\n",
    "\n",
    "rfmTable_30days_no = rfmTable_30days_no.reset_index()"
   ]
  },
  {
   "cell_type": "code",
   "execution_count": 132,
   "metadata": {},
   "outputs": [
    {
     "data": {
      "text/plain": [
       "(44713, 3)"
      ]
     },
     "execution_count": 132,
     "metadata": {},
     "output_type": "execute_result"
    }
   ],
   "source": [
    "rfmTable_no.shape"
   ]
  },
  {
   "cell_type": "code",
   "execution_count": 136,
   "metadata": {},
   "outputs": [
    {
     "data": {
      "text/plain": [
       "(44713, 12)"
      ]
     },
     "execution_count": 136,
     "metadata": {},
     "output_type": "execute_result"
    }
   ],
   "source": [
    "rfm_no_1 = pd.merge(rfmTable_no, rfmTable_3days_no[['member_serial','frequency', 'monetary_value']], on='member_serial', how='left')\n",
    "rfm_no_2 = pd.merge(rfm_no_1, rfmTable_7days_no[['member_serial','frequency', 'monetary_value']], on='member_serial', how='left')\n",
    "rfm_no_3 = pd.merge(rfm_no_2, rfmTable_14days_no[['member_serial','frequency', 'monetary_value']], on='member_serial', how='left')\n",
    "rfm_no = pd.merge(rfm_no_3, rfmTable_30days_no[['member_serial','frequency', 'monetary_value']], on='member_serial', how='left')\n",
    "\n",
    "rfm_no.shape"
   ]
  },
  {
   "cell_type": "code",
   "execution_count": 135,
   "metadata": {},
   "outputs": [
    {
     "data": {
      "text/html": [
       "<div>\n",
       "<style scoped>\n",
       "    .dataframe tbody tr th:only-of-type {\n",
       "        vertical-align: middle;\n",
       "    }\n",
       "\n",
       "    .dataframe tbody tr th {\n",
       "        vertical-align: top;\n",
       "    }\n",
       "\n",
       "    .dataframe thead th {\n",
       "        text-align: right;\n",
       "    }\n",
       "</style>\n",
       "<table border=\"1\" class=\"dataframe\">\n",
       "  <thead>\n",
       "    <tr style=\"text-align: right;\">\n",
       "      <th></th>\n",
       "      <th>member_serial</th>\n",
       "      <th>recency_x</th>\n",
       "      <th>frequency_x</th>\n",
       "      <th>monetary_value_x</th>\n",
       "      <th>recency_y</th>\n",
       "      <th>frequency_y</th>\n",
       "      <th>monetary_value_y</th>\n",
       "      <th>recency_x</th>\n",
       "      <th>frequency_x</th>\n",
       "      <th>monetary_value_x</th>\n",
       "      <th>recency_y</th>\n",
       "      <th>frequency_y</th>\n",
       "      <th>monetary_value_y</th>\n",
       "      <th>recency</th>\n",
       "      <th>frequency</th>\n",
       "      <th>monetary_value</th>\n",
       "    </tr>\n",
       "  </thead>\n",
       "  <tbody>\n",
       "    <tr>\n",
       "      <th>0</th>\n",
       "      <td>0002261222d87a3eb7f257d0ab12e2b722d3d052</td>\n",
       "      <td>35.0</td>\n",
       "      <td>48</td>\n",
       "      <td>2326.0</td>\n",
       "      <td>NaN</td>\n",
       "      <td>NaN</td>\n",
       "      <td>NaN</td>\n",
       "      <td>35.0</td>\n",
       "      <td>4.0</td>\n",
       "      <td>206.0</td>\n",
       "      <td>35.0</td>\n",
       "      <td>6.0</td>\n",
       "      <td>296.0</td>\n",
       "      <td>35.0</td>\n",
       "      <td>14.0</td>\n",
       "      <td>656.0</td>\n",
       "    </tr>\n",
       "    <tr>\n",
       "      <th>1</th>\n",
       "      <td>0002a4db595bbe07e63b89b6c039bd88013b6ddd</td>\n",
       "      <td>47.0</td>\n",
       "      <td>38</td>\n",
       "      <td>1398.0</td>\n",
       "      <td>NaN</td>\n",
       "      <td>NaN</td>\n",
       "      <td>NaN</td>\n",
       "      <td>NaN</td>\n",
       "      <td>NaN</td>\n",
       "      <td>NaN</td>\n",
       "      <td>NaN</td>\n",
       "      <td>NaN</td>\n",
       "      <td>NaN</td>\n",
       "      <td>47.0</td>\n",
       "      <td>4.0</td>\n",
       "      <td>130.0</td>\n",
       "    </tr>\n",
       "    <tr>\n",
       "      <th>2</th>\n",
       "      <td>0002e33fbfc6830bb2bba7e19944ad96414efe51</td>\n",
       "      <td>57.0</td>\n",
       "      <td>30</td>\n",
       "      <td>968.0</td>\n",
       "      <td>NaN</td>\n",
       "      <td>NaN</td>\n",
       "      <td>NaN</td>\n",
       "      <td>NaN</td>\n",
       "      <td>NaN</td>\n",
       "      <td>NaN</td>\n",
       "      <td>NaN</td>\n",
       "      <td>NaN</td>\n",
       "      <td>NaN</td>\n",
       "      <td>57.0</td>\n",
       "      <td>10.0</td>\n",
       "      <td>212.0</td>\n",
       "    </tr>\n",
       "    <tr>\n",
       "      <th>3</th>\n",
       "      <td>0004d02292debb8cd27c409891538863c13820c6</td>\n",
       "      <td>115.0</td>\n",
       "      <td>18</td>\n",
       "      <td>632.0</td>\n",
       "      <td>NaN</td>\n",
       "      <td>NaN</td>\n",
       "      <td>NaN</td>\n",
       "      <td>NaN</td>\n",
       "      <td>NaN</td>\n",
       "      <td>NaN</td>\n",
       "      <td>NaN</td>\n",
       "      <td>NaN</td>\n",
       "      <td>NaN</td>\n",
       "      <td>NaN</td>\n",
       "      <td>NaN</td>\n",
       "      <td>NaN</td>\n",
       "    </tr>\n",
       "    <tr>\n",
       "      <th>4</th>\n",
       "      <td>000721b0ca6d13344cbca062b3ea8d28e1095a30</td>\n",
       "      <td>31.0</td>\n",
       "      <td>24</td>\n",
       "      <td>886.0</td>\n",
       "      <td>31.0</td>\n",
       "      <td>2.0</td>\n",
       "      <td>100.0</td>\n",
       "      <td>31.0</td>\n",
       "      <td>4.0</td>\n",
       "      <td>178.0</td>\n",
       "      <td>31.0</td>\n",
       "      <td>6.0</td>\n",
       "      <td>256.0</td>\n",
       "      <td>31.0</td>\n",
       "      <td>10.0</td>\n",
       "      <td>356.0</td>\n",
       "    </tr>\n",
       "  </tbody>\n",
       "</table>\n",
       "</div>"
      ],
      "text/plain": [
       "                              member_serial  recency_x  frequency_x  \\\n",
       "0  0002261222d87a3eb7f257d0ab12e2b722d3d052       35.0           48   \n",
       "1  0002a4db595bbe07e63b89b6c039bd88013b6ddd       47.0           38   \n",
       "2  0002e33fbfc6830bb2bba7e19944ad96414efe51       57.0           30   \n",
       "3  0004d02292debb8cd27c409891538863c13820c6      115.0           18   \n",
       "4  000721b0ca6d13344cbca062b3ea8d28e1095a30       31.0           24   \n",
       "\n",
       "   monetary_value_x  recency_y  frequency_y  monetary_value_y  recency_x  \\\n",
       "0            2326.0        NaN          NaN               NaN       35.0   \n",
       "1            1398.0        NaN          NaN               NaN        NaN   \n",
       "2             968.0        NaN          NaN               NaN        NaN   \n",
       "3             632.0        NaN          NaN               NaN        NaN   \n",
       "4             886.0       31.0          2.0             100.0       31.0   \n",
       "\n",
       "   frequency_x  monetary_value_x  recency_y  frequency_y  monetary_value_y  \\\n",
       "0          4.0             206.0       35.0          6.0             296.0   \n",
       "1          NaN               NaN        NaN          NaN               NaN   \n",
       "2          NaN               NaN        NaN          NaN               NaN   \n",
       "3          NaN               NaN        NaN          NaN               NaN   \n",
       "4          4.0             178.0       31.0          6.0             256.0   \n",
       "\n",
       "   recency  frequency  monetary_value  \n",
       "0     35.0       14.0           656.0  \n",
       "1     47.0        4.0           130.0  \n",
       "2     57.0       10.0           212.0  \n",
       "3      NaN        NaN             NaN  \n",
       "4     31.0       10.0           356.0  "
      ]
     },
     "execution_count": 135,
     "metadata": {},
     "output_type": "execute_result"
    }
   ],
   "source": [
    "rfm_no.head()"
   ]
  },
  {
   "cell_type": "code",
   "execution_count": 137,
   "metadata": {},
   "outputs": [],
   "source": [
    "rfm_no.columns = ['member_serial',\n",
    " 'recency',\n",
    " 'frequency_lt',\n",
    " 'monetary_value_lt',\n",
    " 'frequency_3days',\n",
    " 'monetary_value_3days',\n",
    " 'frequency_7days',\n",
    " 'monetary_value_7days',\n",
    " 'frequency_14days',\n",
    " 'monetary_value_14days',\n",
    " 'frequency_30days',\n",
    " 'monetary_value_30days']"
   ]
  },
  {
   "cell_type": "code",
   "execution_count": 138,
   "metadata": {},
   "outputs": [
    {
     "data": {
      "text/html": [
       "<div>\n",
       "<style scoped>\n",
       "    .dataframe tbody tr th:only-of-type {\n",
       "        vertical-align: middle;\n",
       "    }\n",
       "\n",
       "    .dataframe tbody tr th {\n",
       "        vertical-align: top;\n",
       "    }\n",
       "\n",
       "    .dataframe thead th {\n",
       "        text-align: right;\n",
       "    }\n",
       "</style>\n",
       "<table border=\"1\" class=\"dataframe\">\n",
       "  <thead>\n",
       "    <tr style=\"text-align: right;\">\n",
       "      <th></th>\n",
       "      <th>member_serial</th>\n",
       "      <th>recency</th>\n",
       "      <th>frequency_lt</th>\n",
       "      <th>monetary_value_lt</th>\n",
       "      <th>frequency_3days</th>\n",
       "      <th>monetary_value_3days</th>\n",
       "      <th>frequency_7days</th>\n",
       "      <th>monetary_value_7days</th>\n",
       "      <th>frequency_14days</th>\n",
       "      <th>monetary_value_14days</th>\n",
       "      <th>frequency_30days</th>\n",
       "      <th>monetary_value_30days</th>\n",
       "    </tr>\n",
       "  </thead>\n",
       "  <tbody>\n",
       "    <tr>\n",
       "      <th>0</th>\n",
       "      <td>0002261222d87a3eb7f257d0ab12e2b722d3d052</td>\n",
       "      <td>35.0</td>\n",
       "      <td>48</td>\n",
       "      <td>2326.0</td>\n",
       "      <td>0.0</td>\n",
       "      <td>0.0</td>\n",
       "      <td>4.0</td>\n",
       "      <td>206.0</td>\n",
       "      <td>6.0</td>\n",
       "      <td>296.0</td>\n",
       "      <td>14.0</td>\n",
       "      <td>656.0</td>\n",
       "    </tr>\n",
       "    <tr>\n",
       "      <th>1</th>\n",
       "      <td>0002a4db595bbe07e63b89b6c039bd88013b6ddd</td>\n",
       "      <td>47.0</td>\n",
       "      <td>38</td>\n",
       "      <td>1398.0</td>\n",
       "      <td>0.0</td>\n",
       "      <td>0.0</td>\n",
       "      <td>0.0</td>\n",
       "      <td>0.0</td>\n",
       "      <td>0.0</td>\n",
       "      <td>0.0</td>\n",
       "      <td>4.0</td>\n",
       "      <td>130.0</td>\n",
       "    </tr>\n",
       "    <tr>\n",
       "      <th>2</th>\n",
       "      <td>0002e33fbfc6830bb2bba7e19944ad96414efe51</td>\n",
       "      <td>57.0</td>\n",
       "      <td>30</td>\n",
       "      <td>968.0</td>\n",
       "      <td>0.0</td>\n",
       "      <td>0.0</td>\n",
       "      <td>0.0</td>\n",
       "      <td>0.0</td>\n",
       "      <td>0.0</td>\n",
       "      <td>0.0</td>\n",
       "      <td>10.0</td>\n",
       "      <td>212.0</td>\n",
       "    </tr>\n",
       "    <tr>\n",
       "      <th>3</th>\n",
       "      <td>0004d02292debb8cd27c409891538863c13820c6</td>\n",
       "      <td>115.0</td>\n",
       "      <td>18</td>\n",
       "      <td>632.0</td>\n",
       "      <td>0.0</td>\n",
       "      <td>0.0</td>\n",
       "      <td>0.0</td>\n",
       "      <td>0.0</td>\n",
       "      <td>0.0</td>\n",
       "      <td>0.0</td>\n",
       "      <td>0.0</td>\n",
       "      <td>0.0</td>\n",
       "    </tr>\n",
       "    <tr>\n",
       "      <th>4</th>\n",
       "      <td>000721b0ca6d13344cbca062b3ea8d28e1095a30</td>\n",
       "      <td>31.0</td>\n",
       "      <td>24</td>\n",
       "      <td>886.0</td>\n",
       "      <td>2.0</td>\n",
       "      <td>100.0</td>\n",
       "      <td>4.0</td>\n",
       "      <td>178.0</td>\n",
       "      <td>6.0</td>\n",
       "      <td>256.0</td>\n",
       "      <td>10.0</td>\n",
       "      <td>356.0</td>\n",
       "    </tr>\n",
       "  </tbody>\n",
       "</table>\n",
       "</div>"
      ],
      "text/plain": [
       "                              member_serial  recency  frequency_lt  \\\n",
       "0  0002261222d87a3eb7f257d0ab12e2b722d3d052     35.0            48   \n",
       "1  0002a4db595bbe07e63b89b6c039bd88013b6ddd     47.0            38   \n",
       "2  0002e33fbfc6830bb2bba7e19944ad96414efe51     57.0            30   \n",
       "3  0004d02292debb8cd27c409891538863c13820c6    115.0            18   \n",
       "4  000721b0ca6d13344cbca062b3ea8d28e1095a30     31.0            24   \n",
       "\n",
       "   monetary_value_lt  frequency_3days  monetary_value_3days  frequency_7days  \\\n",
       "0             2326.0              0.0                   0.0              4.0   \n",
       "1             1398.0              0.0                   0.0              0.0   \n",
       "2              968.0              0.0                   0.0              0.0   \n",
       "3              632.0              0.0                   0.0              0.0   \n",
       "4              886.0              2.0                 100.0              4.0   \n",
       "\n",
       "   monetary_value_7days  frequency_14days  monetary_value_14days  \\\n",
       "0                 206.0               6.0                  296.0   \n",
       "1                   0.0               0.0                    0.0   \n",
       "2                   0.0               0.0                    0.0   \n",
       "3                   0.0               0.0                    0.0   \n",
       "4                 178.0               6.0                  256.0   \n",
       "\n",
       "   frequency_30days  monetary_value_30days  \n",
       "0              14.0                  656.0  \n",
       "1               4.0                  130.0  \n",
       "2              10.0                  212.0  \n",
       "3               0.0                    0.0  \n",
       "4              10.0                  356.0  "
      ]
     },
     "execution_count": 138,
     "metadata": {},
     "output_type": "execute_result"
    }
   ],
   "source": [
    "rfm_no_cp = rfm_no.copy()\n",
    "rfm_no_cp = rfm_no_cp.fillna(0)\n",
    "rfm_no_cp.head()"
   ]
  },
  {
   "cell_type": "code",
   "execution_count": 59,
   "metadata": {},
   "outputs": [],
   "source": [
    "sum(df_drink_all.address.isnull())\n",
    "df_drink_all = df_drink_all[~df_drink_all.address.isnull()]"
   ]
  },
  {
   "cell_type": "code",
   "execution_count": 159,
   "metadata": {},
   "outputs": [
    {
     "data": {
      "text/plain": [
       "(44713, 12)"
      ]
     },
     "execution_count": 159,
     "metadata": {},
     "output_type": "execute_result"
    }
   ],
   "source": [
    "rfm_no_cp.shape"
   ]
  },
  {
   "cell_type": "code",
   "execution_count": 166,
   "metadata": {},
   "outputs": [
    {
     "data": {
      "text/html": [
       "<div>\n",
       "<style scoped>\n",
       "    .dataframe tbody tr th:only-of-type {\n",
       "        vertical-align: middle;\n",
       "    }\n",
       "\n",
       "    .dataframe tbody tr th {\n",
       "        vertical-align: top;\n",
       "    }\n",
       "\n",
       "    .dataframe thead th {\n",
       "        text-align: right;\n",
       "    }\n",
       "</style>\n",
       "<table border=\"1\" class=\"dataframe\">\n",
       "  <thead>\n",
       "    <tr style=\"text-align: right;\">\n",
       "      <th></th>\n",
       "      <th>member_serial</th>\n",
       "      <th>recency</th>\n",
       "      <th>frequency_lt</th>\n",
       "      <th>monetary_value_lt</th>\n",
       "      <th>frequency_3days</th>\n",
       "      <th>monetary_value_3days</th>\n",
       "      <th>frequency_7days</th>\n",
       "      <th>monetary_value_7days</th>\n",
       "      <th>frequency_14days</th>\n",
       "      <th>monetary_value_14days</th>\n",
       "      <th>frequency_30days</th>\n",
       "      <th>monetary_value_30days</th>\n",
       "    </tr>\n",
       "  </thead>\n",
       "  <tbody>\n",
       "    <tr>\n",
       "      <th>1</th>\n",
       "      <td>0002a4db595bbe07e63b89b6c039bd88013b6ddd</td>\n",
       "      <td>47.0</td>\n",
       "      <td>38</td>\n",
       "      <td>1398.0</td>\n",
       "      <td>0.0</td>\n",
       "      <td>0.0</td>\n",
       "      <td>0.0</td>\n",
       "      <td>0.0</td>\n",
       "      <td>0.0</td>\n",
       "      <td>0.0</td>\n",
       "      <td>4.0</td>\n",
       "      <td>130.0</td>\n",
       "    </tr>\n",
       "  </tbody>\n",
       "</table>\n",
       "</div>"
      ],
      "text/plain": [
       "                              member_serial  recency  frequency_lt  \\\n",
       "1  0002a4db595bbe07e63b89b6c039bd88013b6ddd     47.0            38   \n",
       "\n",
       "   monetary_value_lt  frequency_3days  monetary_value_3days  frequency_7days  \\\n",
       "1             1398.0              0.0                   0.0              0.0   \n",
       "\n",
       "   monetary_value_7days  frequency_14days  monetary_value_14days  \\\n",
       "1                   0.0               0.0                    0.0   \n",
       "\n",
       "   frequency_30days  monetary_value_30days  \n",
       "1               4.0                  130.0  "
      ]
     },
     "execution_count": 166,
     "metadata": {},
     "output_type": "execute_result"
    }
   ],
   "source": [
    "rfm_no_cp[rfm_no_cp['member_serial']==\"0002a4db595bbe07e63b89b6c039bd88013b6ddd\"]"
   ]
  },
  {
   "cell_type": "code",
   "execution_count": 169,
   "metadata": {},
   "outputs": [
    {
     "data": {
      "text/html": [
       "<div>\n",
       "<style scoped>\n",
       "    .dataframe tbody tr th:only-of-type {\n",
       "        vertical-align: middle;\n",
       "    }\n",
       "\n",
       "    .dataframe tbody tr th {\n",
       "        vertical-align: top;\n",
       "    }\n",
       "\n",
       "    .dataframe thead th {\n",
       "        text-align: right;\n",
       "    }\n",
       "</style>\n",
       "<table border=\"1\" class=\"dataframe\">\n",
       "  <thead>\n",
       "    <tr style=\"text-align: right;\">\n",
       "      <th></th>\n",
       "      <th>member_serial</th>\n",
       "      <th>recency</th>\n",
       "      <th>frequency_lt</th>\n",
       "      <th>monetary_value_lt</th>\n",
       "      <th>frequency_3days</th>\n",
       "      <th>monetary_value_3days</th>\n",
       "      <th>frequency_7days</th>\n",
       "      <th>monetary_value_7days</th>\n",
       "      <th>frequency_14days</th>\n",
       "      <th>monetary_value_14days</th>\n",
       "      <th>frequency_30days</th>\n",
       "      <th>monetary_value_30days</th>\n",
       "    </tr>\n",
       "  </thead>\n",
       "  <tbody>\n",
       "    <tr>\n",
       "      <th>9</th>\n",
       "      <td>00afa692f8d9541db020bea9235a5ee982456608</td>\n",
       "      <td>65.0</td>\n",
       "      <td>4</td>\n",
       "      <td>70.0</td>\n",
       "      <td>0.0</td>\n",
       "      <td>0.0</td>\n",
       "      <td>0.0</td>\n",
       "      <td>0.0</td>\n",
       "      <td>0.0</td>\n",
       "      <td>0.0</td>\n",
       "      <td>0.0</td>\n",
       "      <td>0.0</td>\n",
       "    </tr>\n",
       "  </tbody>\n",
       "</table>\n",
       "</div>"
      ],
      "text/plain": [
       "                              member_serial  recency  frequency_lt  \\\n",
       "9  00afa692f8d9541db020bea9235a5ee982456608     65.0             4   \n",
       "\n",
       "   monetary_value_lt  frequency_3days  monetary_value_3days  frequency_7days  \\\n",
       "9               70.0              0.0                   0.0              0.0   \n",
       "\n",
       "   monetary_value_7days  frequency_14days  monetary_value_14days  \\\n",
       "9                   0.0               0.0                    0.0   \n",
       "\n",
       "   frequency_30days  monetary_value_30days  \n",
       "9               0.0                    0.0  "
      ]
     },
     "execution_count": 169,
     "metadata": {},
     "output_type": "execute_result"
    }
   ],
   "source": [
    "rfm_cp[rfm_cp['member_serial']==\"00afa692f8d9541db020bea9235a5ee982456608\"]"
   ]
  },
  {
   "cell_type": "code",
   "execution_count": 161,
   "metadata": {},
   "outputs": [],
   "source": [
    "rfm_no_cp.to_csv('D:\\DataAnalysis\\drink_good_rfm.csv',index=False)"
   ]
  },
  {
   "cell_type": "code",
   "execution_count": 160,
   "metadata": {},
   "outputs": [
    {
     "data": {
      "text/plain": [
       "(2838, 12)"
      ]
     },
     "execution_count": 160,
     "metadata": {},
     "output_type": "execute_result"
    }
   ],
   "source": [
    "rfm_cp.shape"
   ]
  },
  {
   "cell_type": "code",
   "execution_count": 162,
   "metadata": {},
   "outputs": [],
   "source": [
    "rfm_cp.to_csv('drink_bad_rfm.csv',index=False)"
   ]
  },
  {
   "cell_type": "code",
   "execution_count": 53,
   "metadata": {},
   "outputs": [
    {
     "data": {
      "text/plain": [
       "array(['台北市', '新北市', '南投縣', '\\n  ', '新竹市', '花蓮縣', '高雄市', '台南市', '桃園市',\n",
       "       '台中市', ' 高雄', '   ', '雲林縣', '新竹縣', '金門縣', '基隆市', ' 臺南', '彰化縣',\n",
       "       '嘉義縣', '屏東縣', '臺北市', '臺中市', '嘉義市', '宜蘭縣', '臺南市', '苗栗縣', ' 雲林',\n",
       "       '台東縣', '澎湖縣', ' 彰化', ' 屏東', '南投市', '桃園縣', ' 臺中', ' 南投', '彰化市',\n",
       "       '連江縣', ' 嘉義', '臺東縣', '屏東市', '員林市', '苗栗市', ' 臺東', '台中縣', '\\u3000台北',\n",
       "       '高雄巿', '新北巿', ']台北', '北市內', '馬公市', '台東市', '營業地', '桃園區', '桃園巿'],\n",
       "      dtype=object)"
      ]
     },
     "execution_count": 53,
     "metadata": {},
     "output_type": "execute_result"
    }
   ],
   "source": [
    "df_drink_all.city.unique()"
   ]
  },
  {
   "cell_type": "code",
   "execution_count": 65,
   "metadata": {},
   "outputs": [],
   "source": [
    "df_drink_all['city'] = df_drink_all.address_new.str[0:3]"
   ]
  },
  {
   "cell_type": "code",
   "execution_count": 69,
   "metadata": {},
   "outputs": [
    {
     "data": {
      "text/plain": [
       "city\n",
       "新北市     281094\n",
       "台北市     272292\n",
       "台中市     235824\n",
       "桃園市     201738\n",
       "高雄市     199666\n",
       "台南市     168168\n",
       "\\n      116758\n",
       "彰化縣      61528\n",
       "新竹市      51764\n",
       "新竹縣      48628\n",
       "屏東縣      42854\n",
       "苗栗縣      35872\n",
       "宜蘭縣      35142\n",
       "雲林縣      34032\n",
       "南投縣      31240\n",
       "嘉義縣      28960\n",
       "         24236\n",
       "花蓮縣      23676\n",
       "基隆市      22234\n",
       "嘉義市      19434\n",
       " 高雄      17604\n",
       "台東縣      16610\n",
       "澎湖縣      12806\n",
       " 臺南      12668\n",
       "臺南市       9966\n",
       "臺中市       7290\n",
       "臺北市       6440\n",
       "金門縣       4874\n",
       " 屏東       2820\n",
       " 臺中       1554\n",
       "連江縣       1548\n",
       " 嘉義        976\n",
       " 雲林        926\n",
       "彰化市        654\n",
       "桃園縣        614\n",
       " 彰化        422\n",
       "屏東市        402\n",
       "苗栗市        334\n",
       "南投市        266\n",
       " 南投        248\n",
       "馬公市        208\n",
       "臺東縣        122\n",
       "員林市         98\n",
       " 臺東         72\n",
       "台中縣         62\n",
       "台東市         28\n",
       "北市內         26\n",
       "高雄巿         26\n",
       "新北巿         16\n",
       "　台北          6\n",
       "營業地          6\n",
       "]台北          4\n",
       "桃園巿          2\n",
       "桃園區          2\n",
       "Name: address, dtype: int64"
      ]
     },
     "execution_count": 69,
     "metadata": {},
     "output_type": "execute_result"
    }
   ],
   "source": [
    "df_drink_all.groupby('city').address.count().sort_values(ascending=False)"
   ]
  },
  {
   "cell_type": "code",
   "execution_count": null,
   "metadata": {},
   "outputs": [],
   "source": []
  },
  {
   "cell_type": "markdown",
   "metadata": {},
   "source": [
    "df_drink_all.address.head()"
   ]
  }
 ],
 "metadata": {
  "kernelspec": {
   "display_name": "Python 3",
   "language": "python",
   "name": "python3"
  },
  "language_info": {
   "codemirror_mode": {
    "name": "ipython",
    "version": 3
   },
   "file_extension": ".py",
   "mimetype": "text/x-python",
   "name": "python",
   "nbconvert_exporter": "python",
   "pygments_lexer": "ipython3",
   "version": "3.8.3"
  }
 },
 "nbformat": 4,
 "nbformat_minor": 4
}
